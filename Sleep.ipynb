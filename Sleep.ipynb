{
 "cells": [
  {
   "cell_type": "code",
   "execution_count": 29,
   "metadata": {
    "collapsed": true
   },
   "outputs": [],
   "source": [
    "import pandas as pd\n",
    "\n",
    "import matplotlib.pyplot as plt\n",
    "\n",
    "%matplotlib inline"
   ]
  },
  {
   "cell_type": "code",
   "execution_count": 12,
   "metadata": {
    "collapsed": false
   },
   "outputs": [
    {
     "data": {
      "text/html": [
       "<div>\n",
       "<table border=\"1\" class=\"dataframe\">\n",
       "  <thead>\n",
       "    <tr style=\"text-align: right;\">\n",
       "      <th></th>\n",
       "      <th>sourceName</th>\n",
       "      <th>sourceVersion</th>\n",
       "      <th>device</th>\n",
       "      <th>type</th>\n",
       "      <th>unit</th>\n",
       "      <th>creationDate</th>\n",
       "      <th>startDate</th>\n",
       "      <th>endDate</th>\n",
       "      <th>value</th>\n",
       "    </tr>\n",
       "  </thead>\n",
       "  <tbody>\n",
       "    <tr>\n",
       "      <th>0</th>\n",
       "      <td>Clock</td>\n",
       "      <td>50</td>\n",
       "      <td>&lt;&lt;HKDevice: 0x1c0a98ba0&gt;, name:iPhone, manufac...</td>\n",
       "      <td>SleepAnalysis</td>\n",
       "      <td>NaN</td>\n",
       "      <td>2016-08-22 07:07:22 -0500</td>\n",
       "      <td>2016-08-21 23:02:16 -0500</td>\n",
       "      <td>2016-08-22 06:57:36 -0500</td>\n",
       "      <td>HKCategoryValueSleepAnalysisInBed</td>\n",
       "    </tr>\n",
       "    <tr>\n",
       "      <th>1</th>\n",
       "      <td>Clock</td>\n",
       "      <td>50</td>\n",
       "      <td>&lt;&lt;HKDevice: 0x1c0a98830&gt;, name:iPhone, manufac...</td>\n",
       "      <td>SleepAnalysis</td>\n",
       "      <td>NaN</td>\n",
       "      <td>2016-08-22 07:07:22 -0500</td>\n",
       "      <td>2016-08-22 07:06:48 -0500</td>\n",
       "      <td>2016-08-22 07:07:16 -0500</td>\n",
       "      <td>HKCategoryValueSleepAnalysisInBed</td>\n",
       "    </tr>\n",
       "    <tr>\n",
       "      <th>2</th>\n",
       "      <td>Clock</td>\n",
       "      <td>50</td>\n",
       "      <td>&lt;&lt;HKDevice: 0x1c0a98740&gt;, name:iPhone, manufac...</td>\n",
       "      <td>SleepAnalysis</td>\n",
       "      <td>NaN</td>\n",
       "      <td>2016-08-22 07:07:22 -0500</td>\n",
       "      <td>2016-08-22 07:07:16 -0500</td>\n",
       "      <td>2016-08-22 07:07:21 -0500</td>\n",
       "      <td>HKCategoryValueSleepAnalysisInBed</td>\n",
       "    </tr>\n",
       "    <tr>\n",
       "      <th>3</th>\n",
       "      <td>Clock</td>\n",
       "      <td>50</td>\n",
       "      <td>&lt;&lt;HKDevice: 0x1c0a98790&gt;, name:iPhone, manufac...</td>\n",
       "      <td>SleepAnalysis</td>\n",
       "      <td>NaN</td>\n",
       "      <td>2016-08-23 07:00:11 -0500</td>\n",
       "      <td>2016-08-23 00:41:40 -0500</td>\n",
       "      <td>2016-08-23 05:45:16 -0500</td>\n",
       "      <td>HKCategoryValueSleepAnalysisInBed</td>\n",
       "    </tr>\n",
       "    <tr>\n",
       "      <th>4</th>\n",
       "      <td>Clock</td>\n",
       "      <td>50</td>\n",
       "      <td>&lt;&lt;HKDevice: 0x1c0a986a0&gt;, name:iPhone, manufac...</td>\n",
       "      <td>SleepAnalysis</td>\n",
       "      <td>NaN</td>\n",
       "      <td>2016-08-23 07:00:11 -0500</td>\n",
       "      <td>2016-08-23 05:45:24 -0500</td>\n",
       "      <td>2016-08-23 06:43:08 -0500</td>\n",
       "      <td>HKCategoryValueSleepAnalysisInBed</td>\n",
       "    </tr>\n",
       "  </tbody>\n",
       "</table>\n",
       "</div>"
      ],
      "text/plain": [
       "  sourceName  sourceVersion  \\\n",
       "0      Clock             50   \n",
       "1      Clock             50   \n",
       "2      Clock             50   \n",
       "3      Clock             50   \n",
       "4      Clock             50   \n",
       "\n",
       "                                              device           type  unit  \\\n",
       "0  <<HKDevice: 0x1c0a98ba0>, name:iPhone, manufac...  SleepAnalysis   NaN   \n",
       "1  <<HKDevice: 0x1c0a98830>, name:iPhone, manufac...  SleepAnalysis   NaN   \n",
       "2  <<HKDevice: 0x1c0a98740>, name:iPhone, manufac...  SleepAnalysis   NaN   \n",
       "3  <<HKDevice: 0x1c0a98790>, name:iPhone, manufac...  SleepAnalysis   NaN   \n",
       "4  <<HKDevice: 0x1c0a986a0>, name:iPhone, manufac...  SleepAnalysis   NaN   \n",
       "\n",
       "                creationDate                  startDate  \\\n",
       "0  2016-08-22 07:07:22 -0500  2016-08-21 23:02:16 -0500   \n",
       "1  2016-08-22 07:07:22 -0500  2016-08-22 07:06:48 -0500   \n",
       "2  2016-08-22 07:07:22 -0500  2016-08-22 07:07:16 -0500   \n",
       "3  2016-08-23 07:00:11 -0500  2016-08-23 00:41:40 -0500   \n",
       "4  2016-08-23 07:00:11 -0500  2016-08-23 05:45:24 -0500   \n",
       "\n",
       "                     endDate                              value  \n",
       "0  2016-08-22 06:57:36 -0500  HKCategoryValueSleepAnalysisInBed  \n",
       "1  2016-08-22 07:07:16 -0500  HKCategoryValueSleepAnalysisInBed  \n",
       "2  2016-08-22 07:07:21 -0500  HKCategoryValueSleepAnalysisInBed  \n",
       "3  2016-08-23 05:45:16 -0500  HKCategoryValueSleepAnalysisInBed  \n",
       "4  2016-08-23 06:43:08 -0500  HKCategoryValueSleepAnalysisInBed  "
      ]
     },
     "execution_count": 12,
     "metadata": {},
     "output_type": "execute_result"
    }
   ],
   "source": [
    "sleep_df = pd.read_csv('SleepAnalysis.csv')\n",
    "sleep_df.head()"
   ]
  },
  {
   "cell_type": "code",
   "execution_count": 22,
   "metadata": {
    "collapsed": false
   },
   "outputs": [
    {
     "name": "stderr",
     "output_type": "stream",
     "text": [
      "/Users/kevin/anaconda/lib/python3.5/site-packages/pandas/core/generic.py:2701: SettingWithCopyWarning: \n",
      "A value is trying to be set on a copy of a slice from a DataFrame.\n",
      "Try using .loc[row_indexer,col_indexer] = value instead\n",
      "\n",
      "See the caveats in the documentation: http://pandas.pydata.org/pandas-docs/stable/indexing.html#indexing-view-versus-copy\n",
      "  self[name] = value\n",
      "/Users/kevin/anaconda/lib/python3.5/site-packages/ipykernel/__main__.py:10: SettingWithCopyWarning: \n",
      "A value is trying to be set on a copy of a slice from a DataFrame.\n",
      "Try using .loc[row_indexer,col_indexer] = value instead\n",
      "\n",
      "See the caveats in the documentation: http://pandas.pydata.org/pandas-docs/stable/indexing.html#indexing-view-versus-copy\n"
     ]
    },
    {
     "data": {
      "text/html": [
       "<div>\n",
       "<table border=\"1\" class=\"dataframe\">\n",
       "  <thead>\n",
       "    <tr style=\"text-align: right;\">\n",
       "      <th></th>\n",
       "      <th>start</th>\n",
       "      <th>end</th>\n",
       "      <th>amount</th>\n",
       "    </tr>\n",
       "  </thead>\n",
       "  <tbody>\n",
       "    <tr>\n",
       "      <th>0</th>\n",
       "      <td>2016-08-21 23:02:16</td>\n",
       "      <td>2016-08-22 06:57:36</td>\n",
       "      <td>07:55:20</td>\n",
       "    </tr>\n",
       "    <tr>\n",
       "      <th>1</th>\n",
       "      <td>2016-08-22 07:06:48</td>\n",
       "      <td>2016-08-22 07:07:16</td>\n",
       "      <td>00:00:28</td>\n",
       "    </tr>\n",
       "    <tr>\n",
       "      <th>2</th>\n",
       "      <td>2016-08-22 07:07:16</td>\n",
       "      <td>2016-08-22 07:07:21</td>\n",
       "      <td>00:00:05</td>\n",
       "    </tr>\n",
       "    <tr>\n",
       "      <th>3</th>\n",
       "      <td>2016-08-23 00:41:40</td>\n",
       "      <td>2016-08-23 05:45:16</td>\n",
       "      <td>05:03:36</td>\n",
       "    </tr>\n",
       "    <tr>\n",
       "      <th>4</th>\n",
       "      <td>2016-08-23 05:45:24</td>\n",
       "      <td>2016-08-23 06:43:08</td>\n",
       "      <td>00:57:44</td>\n",
       "    </tr>\n",
       "  </tbody>\n",
       "</table>\n",
       "</div>"
      ],
      "text/plain": [
       "                start                 end   amount\n",
       "0 2016-08-21 23:02:16 2016-08-22 06:57:36 07:55:20\n",
       "1 2016-08-22 07:06:48 2016-08-22 07:07:16 00:00:28\n",
       "2 2016-08-22 07:07:16 2016-08-22 07:07:21 00:00:05\n",
       "3 2016-08-23 00:41:40 2016-08-23 05:45:16 05:03:36\n",
       "4 2016-08-23 05:45:24 2016-08-23 06:43:08 00:57:44"
      ]
     },
     "execution_count": 22,
     "metadata": {},
     "output_type": "execute_result"
    }
   ],
   "source": [
    "# Extract necessary columns and rename\n",
    "sleep = sleep_df[['startDate', 'endDate']]\n",
    "sleep.columns = ['start', 'end']\n",
    "\n",
    "# Remove timezone from date string, and convert to datetime object\n",
    "sleep.start = pd.to_datetime(sleep.start.apply(lambda x: x[:-6]))\n",
    "sleep.end = pd.to_datetime(sleep.end.apply(lambda x: x[:-6]))\n",
    "\n",
    "# Calculate amount slept\n",
    "sleep['amount'] = sleep.end - sleep.start\n",
    "\n",
    "sleep.head()"
   ]
  },
  {
   "cell_type": "code",
   "execution_count": 30,
   "metadata": {
    "collapsed": false
   },
   "outputs": [
    {
     "data": {
      "text/plain": [
       "<matplotlib.axes._subplots.AxesSubplot at 0x11e9f0d68>"
      ]
     },
     "execution_count": 30,
     "metadata": {},
     "output_type": "execute_result"
    },
    {
     "data": {
      "image/png": "[encoded data removed]",
      "text/plain": [
       "<matplotlib.figure.Figure at 0x11e9aa908>"
      ]
     },
     "metadata": {},
     "output_type": "display_data"
    }
   ],
   "source": [
    "sleep.start.dt.strftime('%H').apply(int).hist()"
   ]
  },
  {
   "cell_type": "code",
   "execution_count": 31,
   "metadata": {
    "collapsed": false
   },
   "outputs": [
    {
     "data": {
      "text/html": [
       "<div>\n",
       "<table border=\"1\" class=\"dataframe\">\n",
       "  <thead>\n",
       "    <tr style=\"text-align: right;\">\n",
       "      <th></th>\n",
       "      <th>start</th>\n",
       "      <th>end</th>\n",
       "      <th>amount</th>\n",
       "    </tr>\n",
       "  </thead>\n",
       "  <tbody>\n",
       "    <tr>\n",
       "      <th>663</th>\n",
       "      <td>2017-11-16 07:25:04</td>\n",
       "      <td>2017-11-16 07:43:18</td>\n",
       "      <td>00:18:14</td>\n",
       "    </tr>\n",
       "    <tr>\n",
       "      <th>664</th>\n",
       "      <td>2017-11-17 01:03:04</td>\n",
       "      <td>2017-11-17 07:25:10</td>\n",
       "      <td>06:22:06</td>\n",
       "    </tr>\n",
       "    <tr>\n",
       "      <th>665</th>\n",
       "      <td>2017-11-20 00:17:48</td>\n",
       "      <td>2017-11-20 07:52:40</td>\n",
       "      <td>07:34:52</td>\n",
       "    </tr>\n",
       "    <tr>\n",
       "      <th>666</th>\n",
       "      <td>2017-11-21 01:18:08</td>\n",
       "      <td>2017-11-21 07:42:44</td>\n",
       "      <td>06:24:36</td>\n",
       "    </tr>\n",
       "    <tr>\n",
       "      <th>667</th>\n",
       "      <td>2017-11-22 00:04:16</td>\n",
       "      <td>2017-11-22 07:14:12</td>\n",
       "      <td>07:09:56</td>\n",
       "    </tr>\n",
       "    <tr>\n",
       "      <th>668</th>\n",
       "      <td>2017-11-22 07:15:44</td>\n",
       "      <td>2017-11-22 07:31:16</td>\n",
       "      <td>00:15:32</td>\n",
       "    </tr>\n",
       "    <tr>\n",
       "      <th>669</th>\n",
       "      <td>2017-11-22 07:38:52</td>\n",
       "      <td>2017-11-22 07:42:20</td>\n",
       "      <td>00:03:28</td>\n",
       "    </tr>\n",
       "    <tr>\n",
       "      <th>670</th>\n",
       "      <td>2017-11-22 07:44:12</td>\n",
       "      <td>2017-11-22 07:45:02</td>\n",
       "      <td>00:00:50</td>\n",
       "    </tr>\n",
       "    <tr>\n",
       "      <th>671</th>\n",
       "      <td>2017-11-23 00:35:40</td>\n",
       "      <td>2017-11-23 07:41:08</td>\n",
       "      <td>07:05:28</td>\n",
       "    </tr>\n",
       "    <tr>\n",
       "      <th>672</th>\n",
       "      <td>2017-11-23 07:54:44</td>\n",
       "      <td>2017-11-23 08:01:55</td>\n",
       "      <td>00:07:11</td>\n",
       "    </tr>\n",
       "  </tbody>\n",
       "</table>\n",
       "</div>"
      ],
      "text/plain": [
       "                  start                 end   amount\n",
       "663 2017-11-16 07:25:04 2017-11-16 07:43:18 00:18:14\n",
       "664 2017-11-17 01:03:04 2017-11-17 07:25:10 06:22:06\n",
       "665 2017-11-20 00:17:48 2017-11-20 07:52:40 07:34:52\n",
       "666 2017-11-21 01:18:08 2017-11-21 07:42:44 06:24:36\n",
       "667 2017-11-22 00:04:16 2017-11-22 07:14:12 07:09:56\n",
       "668 2017-11-22 07:15:44 2017-11-22 07:31:16 00:15:32\n",
       "669 2017-11-22 07:38:52 2017-11-22 07:42:20 00:03:28\n",
       "670 2017-11-22 07:44:12 2017-11-22 07:45:02 00:00:50\n",
       "671 2017-11-23 00:35:40 2017-11-23 07:41:08 07:05:28\n",
       "672 2017-11-23 07:54:44 2017-11-23 08:01:55 00:07:11"
      ]
     },
     "execution_count": 31,
     "metadata": {},
     "output_type": "execute_result"
    }
   ],
   "source": [
    "sleep.tail(10)"
   ]
  },
  {
   "cell_type": "code",
   "execution_count": null,
   "metadata": {
    "collapsed": true
   },
   "outputs": [],
   "source": []
  }
 ],
 "metadata": {
  "anaconda-cloud": {},
  "kernelspec": {
   "display_name": "Python [conda root]",
   "language": "python",
   "name": "conda-root-py"
  },
  "language_info": {
   "codemirror_mode": {
    "name": "ipython",
    "version": 3
   },
   "file_extension": ".py",
   "mimetype": "text/x-python",
   "name": "python",
   "nbconvert_exporter": "python",
   "pygments_lexer": "ipython3",
   "version": "3.5.2"
  }
 },
 "nbformat": 4,
 "nbformat_minor": 1
}
