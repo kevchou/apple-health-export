{
 "cells": [
  {
   "cell_type": "code",
   "execution_count": 1,
   "metadata": {
    "collapsed": true
   },
   "outputs": [],
   "source": [
    "import pandas as pd\n",
    "\n",
    "import matplotlib.pyplot as plt\n",
    "\n",
    "%matplotlib inline"
   ]
  },
  {
   "cell_type": "code",
   "execution_count": 3,
   "metadata": {
    "collapsed": false
   },
   "outputs": [
    {
     "data": {
      "text/html": [
       "<div>\n",
       "<table border=\"1\" class=\"dataframe\">\n",
       "  <thead>\n",
       "    <tr style=\"text-align: right;\">\n",
       "      <th></th>\n",
       "      <th>sourceName</th>\n",
       "      <th>sourceVersion</th>\n",
       "      <th>device</th>\n",
       "      <th>type</th>\n",
       "      <th>unit</th>\n",
       "      <th>creationDate</th>\n",
       "      <th>startDate</th>\n",
       "      <th>endDate</th>\n",
       "      <th>value</th>\n",
       "    </tr>\n",
       "  </thead>\n",
       "  <tbody>\n",
       "    <tr>\n",
       "      <th>0</th>\n",
       "      <td>Kevin's iPhone</td>\n",
       "      <td>9.3</td>\n",
       "      <td>&lt;&lt;HKDevice: 0x1c4280820&gt;, name:iPhone, manufac...</td>\n",
       "      <td>StepCount</td>\n",
       "      <td>count</td>\n",
       "      <td>2016-04-09 14:47:16 -0500</td>\n",
       "      <td>2016-04-09 14:17:53 -0500</td>\n",
       "      <td>2016-04-09 14:23:02 -0500</td>\n",
       "      <td>34</td>\n",
       "    </tr>\n",
       "    <tr>\n",
       "      <th>1</th>\n",
       "      <td>Kevin's iPhone</td>\n",
       "      <td>9.3</td>\n",
       "      <td>&lt;&lt;HKDevice: 0x1c428e290&gt;, name:iPhone, manufac...</td>\n",
       "      <td>StepCount</td>\n",
       "      <td>count</td>\n",
       "      <td>2016-04-09 14:47:16 -0500</td>\n",
       "      <td>2016-04-09 14:23:02 -0500</td>\n",
       "      <td>2016-04-09 14:23:20 -0500</td>\n",
       "      <td>14</td>\n",
       "    </tr>\n",
       "    <tr>\n",
       "      <th>2</th>\n",
       "      <td>Kevin's iPhone</td>\n",
       "      <td>9.3</td>\n",
       "      <td>&lt;&lt;HKDevice: 0x1c4280960&gt;, name:iPhone, manufac...</td>\n",
       "      <td>StepCount</td>\n",
       "      <td>count</td>\n",
       "      <td>2016-04-09 14:47:16 -0500</td>\n",
       "      <td>2016-04-09 14:33:17 -0500</td>\n",
       "      <td>2016-04-09 14:33:33 -0500</td>\n",
       "      <td>8</td>\n",
       "    </tr>\n",
       "    <tr>\n",
       "      <th>3</th>\n",
       "      <td>Kevin's iPhone</td>\n",
       "      <td>9.3</td>\n",
       "      <td>&lt;&lt;HKDevice: 0x1c409a770&gt;, name:iPhone, manufac...</td>\n",
       "      <td>StepCount</td>\n",
       "      <td>count</td>\n",
       "      <td>2016-04-09 15:14:57 -0500</td>\n",
       "      <td>2016-04-09 15:02:56 -0500</td>\n",
       "      <td>2016-04-09 15:03:58 -0500</td>\n",
       "      <td>8</td>\n",
       "    </tr>\n",
       "    <tr>\n",
       "      <th>4</th>\n",
       "      <td>Kevin's iPhone</td>\n",
       "      <td>9.3</td>\n",
       "      <td>&lt;&lt;HKDevice: 0x1c42875d0&gt;, name:iPhone, manufac...</td>\n",
       "      <td>StepCount</td>\n",
       "      <td>count</td>\n",
       "      <td>2016-04-09 16:17:15 -0500</td>\n",
       "      <td>2016-04-09 15:36:42 -0500</td>\n",
       "      <td>2016-04-09 15:40:53 -0500</td>\n",
       "      <td>130</td>\n",
       "    </tr>\n",
       "  </tbody>\n",
       "</table>\n",
       "</div>"
      ],
      "text/plain": [
       "       sourceName sourceVersion  \\\n",
       "0  Kevin's iPhone           9.3   \n",
       "1  Kevin's iPhone           9.3   \n",
       "2  Kevin's iPhone           9.3   \n",
       "3  Kevin's iPhone           9.3   \n",
       "4  Kevin's iPhone           9.3   \n",
       "\n",
       "                                              device       type   unit  \\\n",
       "0  <<HKDevice: 0x1c4280820>, name:iPhone, manufac...  StepCount  count   \n",
       "1  <<HKDevice: 0x1c428e290>, name:iPhone, manufac...  StepCount  count   \n",
       "2  <<HKDevice: 0x1c4280960>, name:iPhone, manufac...  StepCount  count   \n",
       "3  <<HKDevice: 0x1c409a770>, name:iPhone, manufac...  StepCount  count   \n",
       "4  <<HKDevice: 0x1c42875d0>, name:iPhone, manufac...  StepCount  count   \n",
       "\n",
       "                creationDate                  startDate  \\\n",
       "0  2016-04-09 14:47:16 -0500  2016-04-09 14:17:53 -0500   \n",
       "1  2016-04-09 14:47:16 -0500  2016-04-09 14:23:02 -0500   \n",
       "2  2016-04-09 14:47:16 -0500  2016-04-09 14:33:17 -0500   \n",
       "3  2016-04-09 15:14:57 -0500  2016-04-09 15:02:56 -0500   \n",
       "4  2016-04-09 16:17:15 -0500  2016-04-09 15:36:42 -0500   \n",
       "\n",
       "                     endDate  value  \n",
       "0  2016-04-09 14:23:02 -0500     34  \n",
       "1  2016-04-09 14:23:20 -0500     14  \n",
       "2  2016-04-09 14:33:33 -0500      8  \n",
       "3  2016-04-09 15:03:58 -0500      8  \n",
       "4  2016-04-09 15:40:53 -0500    130  "
      ]
     },
     "execution_count": 3,
     "metadata": {},
     "output_type": "execute_result"
    }
   ],
   "source": [
    "# import CSV\n",
    "steps = pd.read_csv(\"raw_data/StepCount.csv\")\n",
    "steps.head()"
   ]
  },
  {
   "cell_type": "code",
   "execution_count": 4,
   "metadata": {
    "collapsed": false
   },
   "outputs": [
    {
     "data": {
      "text/html": [
       "<div>\n",
       "<table border=\"1\" class=\"dataframe\">\n",
       "  <thead>\n",
       "    <tr style=\"text-align: right;\">\n",
       "      <th></th>\n",
       "      <th>start</th>\n",
       "      <th>end</th>\n",
       "      <th>steps</th>\n",
       "    </tr>\n",
       "  </thead>\n",
       "  <tbody>\n",
       "    <tr>\n",
       "      <th>0</th>\n",
       "      <td>2016-04-09 14:17:53</td>\n",
       "      <td>2016-04-09 14:23:02</td>\n",
       "      <td>34</td>\n",
       "    </tr>\n",
       "    <tr>\n",
       "      <th>1</th>\n",
       "      <td>2016-04-09 14:23:02</td>\n",
       "      <td>2016-04-09 14:23:20</td>\n",
       "      <td>14</td>\n",
       "    </tr>\n",
       "    <tr>\n",
       "      <th>2</th>\n",
       "      <td>2016-04-09 14:33:17</td>\n",
       "      <td>2016-04-09 14:33:33</td>\n",
       "      <td>8</td>\n",
       "    </tr>\n",
       "    <tr>\n",
       "      <th>3</th>\n",
       "      <td>2016-04-09 15:02:56</td>\n",
       "      <td>2016-04-09 15:03:58</td>\n",
       "      <td>8</td>\n",
       "    </tr>\n",
       "    <tr>\n",
       "      <th>4</th>\n",
       "      <td>2016-04-09 15:36:42</td>\n",
       "      <td>2016-04-09 15:40:53</td>\n",
       "      <td>130</td>\n",
       "    </tr>\n",
       "  </tbody>\n",
       "</table>\n",
       "</div>"
      ],
      "text/plain": [
       "                start                 end  steps\n",
       "0 2016-04-09 14:17:53 2016-04-09 14:23:02     34\n",
       "1 2016-04-09 14:23:02 2016-04-09 14:23:20     14\n",
       "2 2016-04-09 14:33:17 2016-04-09 14:33:33      8\n",
       "3 2016-04-09 15:02:56 2016-04-09 15:03:58      8\n",
       "4 2016-04-09 15:36:42 2016-04-09 15:40:53    130"
      ]
     },
     "execution_count": 4,
     "metadata": {},
     "output_type": "execute_result"
    }
   ],
   "source": [
    "# Extract necessary columns and rename\n",
    "steps = steps[['startDate', 'endDate', 'value']]\n",
    "steps.columns = ['start', 'end', 'steps']\n",
    "\n",
    "# Remove timezone from date string, and convert to datetime object\n",
    "steps.start = pd.to_datetime(steps.start.apply(lambda x: x[:-6]))\n",
    "steps.end = pd.to_datetime(steps.end.apply(lambda x: x[:-6]))\n",
    "\n",
    "\n",
    "steps.head()"
   ]
  },
  {
   "cell_type": "code",
   "execution_count": 14,
   "metadata": {
    "collapsed": false
   },
   "outputs": [
    {
     "data": {
      "text/html": [
       "<div>\n",
       "<table border=\"1\" class=\"dataframe\">\n",
       "  <thead>\n",
       "    <tr style=\"text-align: right;\">\n",
       "      <th></th>\n",
       "      <th>steps</th>\n",
       "    </tr>\n",
       "    <tr>\n",
       "      <th>time</th>\n",
       "      <th></th>\n",
       "    </tr>\n",
       "  </thead>\n",
       "  <tbody>\n",
       "    <tr>\n",
       "      <th>2016-04-09 14:00</th>\n",
       "      <td>56</td>\n",
       "    </tr>\n",
       "    <tr>\n",
       "      <th>2016-04-09 15:00</th>\n",
       "      <td>152</td>\n",
       "    </tr>\n",
       "    <tr>\n",
       "      <th>2016-04-09 16:00</th>\n",
       "      <td>120</td>\n",
       "    </tr>\n",
       "    <tr>\n",
       "      <th>2016-04-09 17:00</th>\n",
       "      <td>322</td>\n",
       "    </tr>\n",
       "    <tr>\n",
       "      <th>2016-04-09 20:00</th>\n",
       "      <td>25</td>\n",
       "    </tr>\n",
       "  </tbody>\n",
       "</table>\n",
       "</div>"
      ],
      "text/plain": [
       "                  steps\n",
       "time                   \n",
       "2016-04-09 14:00     56\n",
       "2016-04-09 15:00    152\n",
       "2016-04-09 16:00    120\n",
       "2016-04-09 17:00    322\n",
       "2016-04-09 20:00     25"
      ]
     },
     "execution_count": 14,
     "metadata": {},
     "output_type": "execute_result"
    }
   ],
   "source": [
    "hourly = steps.copy()\n",
    "hourly['time'] = hourly.start + (hourly.end - hourly.start)/2\n",
    "del hourly['start'], hourly['end']\n",
    "hourly = hourly.groupby(hourly.time.dt.strftime(\"%Y-%m-%d %H:00\")).sum()\n",
    "\n",
    "hourly.to_csv(\"hourly_steps.csv\")\n",
    "hourly.head()\n",
    "\n"
   ]
  },
  {
   "cell_type": "code",
   "execution_count": 5,
   "metadata": {
    "collapsed": false
   },
   "outputs": [
    {
     "data": {
      "text/html": [
       "<div>\n",
       "<table border=\"1\" class=\"dataframe\">\n",
       "  <thead>\n",
       "    <tr style=\"text-align: right;\">\n",
       "      <th></th>\n",
       "      <th>steps</th>\n",
       "    </tr>\n",
       "    <tr>\n",
       "      <th>start</th>\n",
       "      <th></th>\n",
       "    </tr>\n",
       "  </thead>\n",
       "  <tbody>\n",
       "    <tr>\n",
       "      <th>2016-04-09</th>\n",
       "      <td>701</td>\n",
       "    </tr>\n",
       "    <tr>\n",
       "      <th>2016-04-10</th>\n",
       "      <td>3140</td>\n",
       "    </tr>\n",
       "    <tr>\n",
       "      <th>2016-04-11</th>\n",
       "      <td>8827</td>\n",
       "    </tr>\n",
       "    <tr>\n",
       "      <th>2016-04-12</th>\n",
       "      <td>9013</td>\n",
       "    </tr>\n",
       "    <tr>\n",
       "      <th>2016-04-13</th>\n",
       "      <td>7085</td>\n",
       "    </tr>\n",
       "  </tbody>\n",
       "</table>\n",
       "</div>"
      ],
      "text/plain": [
       "            steps\n",
       "start            \n",
       "2016-04-09    701\n",
       "2016-04-10   3140\n",
       "2016-04-11   8827\n",
       "2016-04-12   9013\n",
       "2016-04-13   7085"
      ]
     },
     "execution_count": 5,
     "metadata": {},
     "output_type": "execute_result"
    }
   ],
   "source": [
    "# Get daily steps\n",
    "daily = steps.groupby(steps.start.dt.normalize()).sum()\n",
    "daily.head()"
   ]
  },
  {
   "cell_type": "code",
   "execution_count": 71,
   "metadata": {
    "collapsed": false
   },
   "outputs": [
    {
     "data": {
      "text/plain": [
       "<matplotlib.axes._subplots.AxesSubplot at 0x11f4cd160>"
      ]
     },
     "execution_count": 71,
     "metadata": {},
     "output_type": "execute_result"
    },
    {
     "data": {
      "image/png": "[encoded data removed]",
      "text/plain": [
       "<matplotlib.figure.Figure at 0x11f4d77b8>"
      ]
     },
     "metadata": {},
     "output_type": "display_data"
    }
   ],
   "source": [
    "daily.plot()"
   ]
  },
  {
   "cell_type": "code",
   "execution_count": 80,
   "metadata": {
    "collapsed": false
   },
   "outputs": [
    {
     "data": {
      "text/html": [
       "<div>\n",
       "<table border=\"1\" class=\"dataframe\">\n",
       "  <thead>\n",
       "    <tr style=\"text-align: right;\">\n",
       "      <th></th>\n",
       "      <th>steps</th>\n",
       "      <th>dayofweek</th>\n",
       "    </tr>\n",
       "    <tr>\n",
       "      <th>start</th>\n",
       "      <th></th>\n",
       "      <th></th>\n",
       "    </tr>\n",
       "  </thead>\n",
       "  <tbody>\n",
       "    <tr>\n",
       "      <th>2016-04-09</th>\n",
       "      <td>701</td>\n",
       "      <td>Saturday</td>\n",
       "    </tr>\n",
       "    <tr>\n",
       "      <th>2016-04-10</th>\n",
       "      <td>3140</td>\n",
       "      <td>Sunday</td>\n",
       "    </tr>\n",
       "    <tr>\n",
       "      <th>2016-04-11</th>\n",
       "      <td>8827</td>\n",
       "      <td>Monday</td>\n",
       "    </tr>\n",
       "    <tr>\n",
       "      <th>2016-04-12</th>\n",
       "      <td>9013</td>\n",
       "      <td>Tuesday</td>\n",
       "    </tr>\n",
       "    <tr>\n",
       "      <th>2016-04-13</th>\n",
       "      <td>7085</td>\n",
       "      <td>Wednesday</td>\n",
       "    </tr>\n",
       "  </tbody>\n",
       "</table>\n",
       "</div>"
      ],
      "text/plain": [
       "            steps  dayofweek\n",
       "start                       \n",
       "2016-04-09    701   Saturday\n",
       "2016-04-10   3140     Sunday\n",
       "2016-04-11   8827     Monday\n",
       "2016-04-12   9013    Tuesday\n",
       "2016-04-13   7085  Wednesday"
      ]
     },
     "execution_count": 80,
     "metadata": {},
     "output_type": "execute_result"
    }
   ],
   "source": [
    "daily['dayofweek'] = daily.index.strftime('%A')\n",
    "daily.head()"
   ]
  },
  {
   "cell_type": "code",
   "execution_count": 88,
   "metadata": {
    "collapsed": false
   },
   "outputs": [
    {
     "data": {
      "text/plain": [
       "<matplotlib.text.Text at 0x1251c5f28>"
      ]
     },
     "execution_count": 88,
     "metadata": {},
     "output_type": "execute_result"
    },
    {
     "data": {
      "image/png": "[encoded data removed]",
      "text/plain": [
       "<matplotlib.figure.Figure at 0x1253d74a8>"
      ]
     },
     "metadata": {},
     "output_type": "display_data"
    }
   ],
   "source": [
    "import seaborn as sns\n",
    "\n",
    "plt.figure(figsize=(10, 10))\n",
    "ax = sns.boxplot(x='dayofweek', y='steps', data=daily, order=['Sunday', 'Monday', 'Tuesday', 'Wednesday', 'Thursday', 'Friday', 'Saturday'])\n",
    "ax.set_xlabel(\"Day of Week\")\n",
    "ax.set_ylabel(\"Steps\")"
   ]
  },
  {
   "cell_type": "code",
   "execution_count": null,
   "metadata": {
    "collapsed": true
   },
   "outputs": [],
   "source": []
  }
 ],
 "metadata": {
  "anaconda-cloud": {},
  "kernelspec": {
   "display_name": "Python [default]",
   "language": "python",
   "name": "python3"
  }
 },
 "nbformat": 4,
 "nbformat_minor": 1
}
